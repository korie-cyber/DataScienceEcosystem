{
 "cells": [
  {
   "cell_type": "markdown",
   "id": "31160676-c7b3-4cac-bc14-ea1a0f270f2e",
   "metadata": {},
   "source": [
    "# Data Science Tools and EcoSystem"
   ]
  },
  {
   "cell_type": "markdown",
   "id": "216168a0-3ea7-4335-9036-5780f6f9f000",
   "metadata": {},
   "source": [
    "# In this notebook, Data Science Tools and Ecosystem are summarized.\n",
    "### **Objectives:**\n",
    "* List the popular languages data scientists use\n",
    "* List the some commonly used libraries used by data scientists\n",
    "* List open source development data science tools\n",
    "* Make a simple arithmetic expression that includes multiplication and addition\n",
    "* Convert 200 minutes to hours"
   ]
  },
  {
   "cell_type": "markdown",
   "id": "7a0f4324-82a7-4287-8540-9605e3fa4869",
   "metadata": {},
   "source": [
    "## Some of the popular languages data scientists use are: \n",
    "\n",
    "1. Python\n",
    "2. R\n",
    "3. SQL\n",
    "4. Scala\n",
    "5. Java\n",
    "6. Julia\n",
    "7. C++"
   ]
  },
  {
   "cell_type": "markdown",
   "id": "ed684d3d-5772-445e-9dd6-67bb5eb408ad",
   "metadata": {},
   "source": [
    "## Some of the commonly used libraries used by Data Scientists include: \n",
    "\n",
    "1. MATPLOTLIB\n",
    "2. Seaborn\n",
    "3. Keras\n",
    "4. Carat\n",
    "5. ggplot\n",
    "6. Scikit learn\n",
    "7. Big DL"
   ]
  },
  {
   "cell_type": "markdown",
   "id": "f50e43ae-e89d-4d57-b5c9-7837b993c308",
   "metadata": {},
   "source": [
    "| Data Science Tools |\n",
    "| ----------|\n",
    "| Jupyter Notebook |\n",
    "| Rstudio |\n",
    "| VS (Visual Studio) code |"
   ]
  },
  {
   "cell_type": "markdown",
   "id": "2b67ce87-a8d3-49d0-b4db-e5ebf8231a5f",
   "metadata": {},
   "source": [
    "### Below are a few examples of evaluating arithmetic expressions in Python.\n"
   ]
  },
  {
   "cell_type": "code",
   "execution_count": 1,
   "id": "00ffe2bf-1c35-4ec3-81b3-725600cae230",
   "metadata": {},
   "outputs": [
    {
     "data": {
      "text/plain": [
       "17"
      ]
     },
     "execution_count": 1,
     "metadata": {},
     "output_type": "execute_result"
    }
   ],
   "source": [
    "(3*4)+5\n",
    "# This a simple arithmetic expression to mutiply then add integers"
   ]
  },
  {
   "cell_type": "code",
   "execution_count": 9,
   "id": "50f3b42b-1827-4589-b656-c47fa4fb57bc",
   "metadata": {},
   "outputs": [
    {
     "name": "stdout",
     "output_type": "stream",
     "text": [
      "200 minutes is 3 Hours\n"
     ]
    }
   ],
   "source": [
    "minutes = 200\n",
    "Hours = int(200/60)\n",
    "print(\"200 minutes is \" + str(Hours) + \" Hours\") \n",
    "# This will convert 200 minutes to hours by diving by 60"
   ]
  },
  {
   "cell_type": "markdown",
   "id": "e9b1d86f-eb9d-44e0-8f93-6de763cb4d7d",
   "metadata": {},
   "source": [
    "## Author\n",
    "\n",
    "Olafisoye Emmanuel "
   ]
  },
  {
   "cell_type": "code",
   "execution_count": null,
   "id": "90117c24-31ed-41b5-89af-5ad21efd1de0",
   "metadata": {},
   "outputs": [],
   "source": []
  }
 ],
 "metadata": {
  "kernelspec": {
   "display_name": "Python 3 (ipykernel)",
   "language": "python",
   "name": "python3"
  },
  "language_info": {
   "codemirror_mode": {
    "name": "ipython",
    "version": 3
   },
   "file_extension": ".py",
   "mimetype": "text/x-python",
   "name": "python",
   "nbconvert_exporter": "python",
   "pygments_lexer": "ipython3",
   "version": "3.9.19"
  }
 },
 "nbformat": 4,
 "nbformat_minor": 5
}
